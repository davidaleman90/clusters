{
 "metadata": {
  "name": "clusters"
 },
 "nbformat": 3,
 "nbformat_minor": 0,
 "worksheets": [
  {
   "cells": [
    {
     "cell_type": "code",
     "collapsed": false,
     "input": [
      "%pylab inline\n",
      "datos=loadtxt(\"data.dat\")\n",
      "sh=shape(datos)\n",
      "x=zeros(sh[0])\n",
      "y=zeros(sh[0])\n",
      "for i in range(sh[0]):\n",
      " x[i]=datos[i][0]\n",
      " y[i]=datos[i][1]\n",
      "\n",
      "scatter(x,y)\n",
      "x1cen_ale=(15*random.random())\n",
      "y1cen_ale=(15*random.random())\n",
      "x2cen_ale=(15*random.random())\n",
      "y2cen_ale=(15*random.random())\n",
      "\n",
      "colores=zeros(sh[0])\n",
      "distancia1=zeros(sh[0])\n",
      "distancia2=zeros(sh[0])\n",
      " \n",
      "for i in range(sh[0]):\n",
      " distancia1[i]=sqrt(((x[i]-x1cen_ale)**2)+((y[i]-y1cen_ale)**2))\n",
      " distancia2[i]=sqrt(((x[i]-x2cen_ale)**2)+((y[i]-y2cen_ale)**2))\n",
      " if(distancia1[i]<distancia2[i]):\n",
      " colores[i]=0\n",
      " else:\n",
      " colores[i]=1\n",
      " \n",
      "puntos_azules=where(colores==0)\n",
      "xazules=x[puntos_azules]\n",
      "yazules=y[puntos_azules]\n",
      "xcentro_azul=sum(xazules)/size(xazules)\n",
      "ycentro_azul=sum(yazules)/size(yazules) \n",
      "puntos_rojos=where(colores==1)\n",
      "xrojos=x[puntos_rojos]\n",
      "yrojos=y[puntos_rojos]\n",
      "xcentro_rojo=sum(xrojos)/size(xrojos)\n",
      "ycentro_rojo=sum(yrojos)/size(yrojos)\n",
      "\n",
      "scatter(xcentro_azul,ycentro_azul, c='b', s=90)\n",
      "scatter(xcentro_rojo,ycentro_rojo, c='r', s=90)\n",
      "scatter(xazules,yazules,c='b')\n",
      "scatter(xrojos,yrojos, c='r')"
     ],
     "language": "python",
     "metadata": {},
     "outputs": [
      {
       "output_type": "stream",
       "stream": "stdout",
       "text": [
        "\n",
        "Welcome to pylab, a matplotlib-based Python environment [backend: module://IPython.kernel.zmq.pylab.backend_inline].\n",
        "For more information, type 'help(pylab)'.\n"
       ]
      },
      {
       "output_type": "pyout",
       "prompt_number": 8,
       "text": [
        "<matplotlib.collections.PathCollection at 0x2b04550>"
       ]
      },
      {
       "output_type": "display_data",
       "png": "[encoded data removed]",
       "text": [
        "<matplotlib.figure.Figure at 0x228a1d0>"
       ]
      }
     ],
     "prompt_number": 8
    },
    {
     "cell_type": "code",
     "collapsed": false,
     "input": [],
     "language": "python",
     "metadata": {},
     "outputs": [],
     "prompt_number": 5
    },
    {
     "cell_type": "code",
     "collapsed": false,
     "input": [],
     "language": "python",
     "metadata": {},
     "outputs": [],
     "prompt_number": 5
    },
    {
     "cell_type": "code",
     "collapsed": false,
     "input": [],
     "language": "python",
     "metadata": {},
     "outputs": [],
     "prompt_number": 5
    },
    {
     "cell_type": "code",
     "collapsed": false,
     "input": [],
     "language": "python",
     "metadata": {},
     "outputs": [],
     "prompt_number": 5
    },
    {
     "cell_type": "code",
     "collapsed": false,
     "input": [],
     "language": "python",
     "metadata": {},
     "outputs": []
    }
   ],
   "metadata": {}
  }
 ]
}
